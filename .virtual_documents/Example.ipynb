


# conda install plotly==4.14.3 chart-studio==1.1.0
# pip install plotly==4.14.3 chart-studio==1.1.0





# pip install cufflinks==0.17.3


# kod z Kodilla błędny
# import plotly.offline as pyo
# download_plotlyjs,init_notebook_mode,plot,iplot
# init_notebook_mode(connected=True)


import plotly.offline as pyo

# Poprawny import funkcji
from plotly.offline import download_plotlyjs, init_notebook_mode, plot, iplot

# Inicjalizacja trybu notebooka
init_notebook_mode(connected=True)


import cufflinks as cf
cf.go_offline()


import pandas as pd
df = pd.read_csv('OECDBLI2017.csv')
df.head()





import cufflinks as cf
import plotly.offline as pyo

# Inicjalizacja trybu offline
cf.go_offline()
pyo.init_notebook_mode(connected=True)

# Tworzenie wykresu
df.set_index('Country')['Employment rate as pct'].sort_values(ascending=False).iplot(kind='bar')


# Dodaj tę linię, aby wymusić wyświetlenie wykresu
df.set_index('Country')['Employment rate as pct'].sort_values(ascending=False).iplot(kind='bar')


# Sprawdź pierwsze kilka wierszy danych
print(df.head())

# Sprawdź, czy kolumna 'Employment rate as pct' zawiera dane
print(df['Employment rate as pct'].isnull().sum())


import cufflinks as cf
import plotly.offline as pyo
import pandas as pd

# Inicjalizacja trybu offline
cf.go_offline()
pyo.init_notebook_mode(connected=True)

# Wczytanie danych
df = pd.read_csv('OECDBLI2017.csv')

# Tworzenie wykresu
df.set_index('Country')['Employment rate as pct'].sort_values(ascending=False).iplot(kind='bar')


import cufflinks as cf
import plotly.offline as pyo

# Inicjalizacja trybu offline
cf.go_offline()
pyo.init_notebook_mode(connected=True)

# Tworzenie wykresu
df.set_index('Country')['Employment rate as pct'].sort_values(ascending=False).iplot(kind='bar')


# Dodaj tę linię, aby wymusić wyświetlenie wykresu
df.set_index('Country')['Employment rate as pct'].sort_values(ascending=False).iplot(kind='bar')


import plotly.express as px

# Przygotowanie danych
df_sorted = df.set_index('Country')['Employment rate as pct'].sort_values(ascending=False).reset_index()

# Tworzenie wykresu
fig = px.bar(df_sorted, x='Country', y='Employment rate as pct', title='Employment Rate by Country')
fig.show()


import plotly.offline as pyo
pyo.init_notebook_mode(connected=True)

# Tworzenie wykresu
df.set_index('Country')['Employment rate as pct'].sort_values(ascending=False).iplot(kind='bar')


import cufflinks as cf
import plotly.offline as pyo

# Inicjalizacja trybu offline
cf.go_offline()
pyo.init_notebook_mode(connected=True)


import cufflinks as cf
import plotly.offline as pyo
import pandas as pd

# Inicjalizacja trybu offline
cf.go_offline()
pyo.init_notebook_mode(connected=True)

# Wczytanie danych
df = pd.read_csv('OECDBLI2017.csv')

# Tworzenie wykresu
df.set_index('Country')['Employment rate as pct'].sort_values(ascending=False).iplot(kind='bar')


import plotly.express as px

# Przygotowanie danych
df_sorted = df.set_index('Country')['Employment rate as pct'].sort_values(ascending=False).reset_index()

# Tworzenie wykresu
fig = px.bar(df_sorted, x='Country', y='Employment rate as pct', title='Employment Rate by Country')
fig.show()



